{
 "cells": [
  {
   "cell_type": "markdown",
   "id": "23ff8720-3665-4fdb-823a-b0a317ba6817",
   "metadata": {},
   "source": [
    "Final Project Notebook:"
   ]
  },
  {
   "cell_type": "code",
   "execution_count": null,
   "id": "e66b2879-c5ca-4026-a414-fea7c09fe356",
   "metadata": {},
   "outputs": [],
   "source": []
  }
 ],
 "metadata": {
  "kernelspec": {
   "display_name": "Python 3 (ipykernel)",
   "language": "python",
   "name": "python3"
  },
  "language_info": {
   "codemirror_mode": {
    "name": "ipython",
    "version": 3
   },
   "file_extension": ".py",
   "mimetype": "text/x-python",
   "name": "python",
   "nbconvert_exporter": "python",
   "pygments_lexer": "ipython3",
   "version": "3.12.4"
  }
 },
 "nbformat": 4,
 "nbformat_minor": 5
}
