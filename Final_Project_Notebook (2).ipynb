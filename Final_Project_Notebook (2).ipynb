{
 "cells": [
  {
   "cell_type": "markdown",
   "id": "23ff8720-3665-4fdb-823a-b0a317ba6817",
   "metadata": {},
   "source": [
    "Final Project Notebook:"
   ]
  },
  {
   "cell_type": "markdown",
   "id": "4476ce28-f8a2-4a50-bd49-e01cb1aee5cd",
   "metadata": {},
   "source": [
    "Introductions:\n",
    "\n",
    "Hello, I'm James Casella, I'm Preston Lalone, and I'm Shivank Menon. \n",
    "Our group is Parks and Playgrounds, and we focused our group project based on bestness in safety. Orginally we were focusing on entertainment but that didn't work out, yet we kept the name.\n",
    "\n",
    "Each of our datasets will focus on different acspects in saftey. Fire Incidents, Police Incidents, and Police Arrests were the three datasets we worked with. \n",
    "\n",
    "We overall chose safety as our main metric because we were cursious of how safe Pittsburgh was concerning the number of fire and police incidents, along with police arrests. Once each dataset is done being graphed, we will then put  them together to get an overall neigborhood that could be consindered safe. We will also discuss other aspects like what was the best neighorhood in each individual dataset and maybe what wasn't as good. \n",
    "\n",
    "Our group also picked our favornite neighborhoods beforehand to see how high they would rank. We all picked Oakland as our favorite for the same reason, we all are not from Pittsburgh and are currently living in Oakland. \n",
    "\n"
   ]
  },
  {
   "cell_type": "markdown",
   "id": "ae6d504e-dd23-47b2-a543-7a341759a3b0",
   "metadata": {},
   "source": [
    "\n",
    "\n",
    "Conclusion:\n",
    "\n",
    "The datasets turned out to have a bit different results then each other, which created data that was scattered all over the place, still it gave us neighborhoods that were overall better and a pretty conflicted result that gave us a tough descision to decide which neighborhood is the safest. Homewood North and Marshall-Shadeland were the final two contestents, but after a group vote we decided that Homewood North was the safest and best neighborhood to live in Pittsburgh. \n",
    "\n",
    "\n",
    "Personal Reflection: \n",
    "\n",
    "James: So Oakland was sadly not the best, but it wasn't the worst. I wasn't really expecting Oakland to be good because of how in city it is compared to the other neighborhoods, but still i was hoping it was up at little higher then is was, it did better in fire incidents compared to police incidents and arrests, but its still pretty middle of the pack. \n",
    "I also thought it was interesting how the Homewood North was the winner even though it did poorly on the fire incidents section, and how the best fire incident neighborhoods were not very high when compared to the rest of the datasets. This was interesting to see and could be solved by using more resources and datasets next time. \n"
   ]
  },
  {
   "cell_type": "code",
   "execution_count": null,
   "id": "b1845757-9676-45d7-b93d-6d53e55cb017",
   "metadata": {},
   "outputs": [],
   "source": []
  }
 ],
 "metadata": {
  "kernelspec": {
   "display_name": "Python 3 (ipykernel)",
   "language": "python",
   "name": "python3"
  },
  "language_info": {
   "codemirror_mode": {
    "name": "ipython",
    "version": 3
   },
   "file_extension": ".py",
   "mimetype": "text/x-python",
   "name": "python",
   "nbconvert_exporter": "python",
   "pygments_lexer": "ipython3",
   "version": "3.12.4"
  }
 },
 "nbformat": 4,
 "nbformat_minor": 5
}
